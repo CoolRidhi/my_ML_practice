{
 "cells": [
  {
   "cell_type": "code",
   "execution_count": 5,
   "metadata": {},
   "outputs": [
    {
     "name": "stdout",
     "output_type": "stream",
     "text": [
      "H\n",
      "E\n",
      "L\n",
      "L\n",
      "O\n",
      "!\n",
      "G\n",
      "U\n",
      "Y\n",
      "S\n",
      "H\n",
      "E\n",
      "L\n",
      "7\n"
     ]
    }
   ],
   "source": [
    "#ITERATOR\n",
    "\n",
    "str = \"HELLO!GUYS\"\n",
    "for i in str:\n",
    "    print(i)\n",
    "ob=iter(str)\n",
    "print(next(ob))\n",
    "print(next(ob))\n",
    "print(next(ob))\n",
    "print(len(list(ob)))\n",
    "    "
   ]
  },
  {
   "cell_type": "code",
   "execution_count": 6,
   "metadata": {},
   "outputs": [
    {
     "name": "stdout",
     "output_type": "stream",
     "text": [
      "6.164414002968976\n"
     ]
    }
   ],
   "source": [
    "#RMS\n",
    "import numpy as nm\n",
    "arr = nm.array([4,5,6,7,8])\n",
    "rms = nm.sqrt(nm.mean(arr**2))\n",
    "print(rms)"
   ]
  },
  {
   "cell_type": "code",
   "execution_count": 8,
   "metadata": {},
   "outputs": [
    {
     "name": "stdout",
     "output_type": "stream",
     "text": [
      "82491502766400\n"
     ]
    }
   ],
   "source": [
    "#REDUCE\n",
    "import functools as ft\n",
    "\n",
    "def multi(x,y):\n",
    "    return x*y\n",
    "\n",
    "numList = [23,34,45,56,67,78,89,90]\n",
    "\n",
    "#MULTIPLICATION OF ELEMENTS IN numList\n",
    "\n",
    "print(ft.reduce(multi,numList))"
   ]
  },
  {
   "cell_type": "code",
   "execution_count": 14,
   "metadata": {},
   "outputs": [
    {
     "name": "stdout",
     "output_type": "stream",
     "text": [
      "<map object at 0x105bfaa58>\n",
      "[1058, 2312, 4050, 6272]\n"
     ]
    }
   ],
   "source": [
    "#MAP\n",
    "def funct(n):\n",
    "    return (n*n)+(n*n)\n",
    "num=(23,34,45,56)\n",
    "rslt=map(funct,num)\n",
    "print(rslt)\n",
    "numsqr=list(rslt)\n",
    "print(numsqr)"
   ]
  }
 ],
 "metadata": {
  "kernelspec": {
   "display_name": "Python 3",
   "language": "python",
   "name": "python3"
  },
  "language_info": {
   "codemirror_mode": {
    "name": "ipython",
    "version": 3
   },
   "file_extension": ".py",
   "mimetype": "text/x-python",
   "name": "python",
   "nbconvert_exporter": "python",
   "pygments_lexer": "ipython3",
   "version": "3.7.1"
  }
 },
 "nbformat": 4,
 "nbformat_minor": 2
}
